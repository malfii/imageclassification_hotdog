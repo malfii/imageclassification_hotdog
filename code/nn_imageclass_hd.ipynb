{
  "cells": [
    {
      "cell_type": "markdown",
      "metadata": {
        "id": "view-in-github",
        "colab_type": "text"
      },
      "source": [
        "<a href=\"https://colab.research.google.com/github/malfii/imageclassification_hotdog/blob/main/code/nn_imageclass_hd.ipynb\" target=\"_parent\"><img src=\"https://colab.research.google.com/assets/colab-badge.svg\" alt=\"Open In Colab\"/></a>"
      ]
    },
    {
      "cell_type": "markdown",
      "source": [
        "##Hotdog image classification\n",
        "In this project, we will use NN to classify different hotdog images."
      ],
      "metadata": {
        "id": "53l-4vJEGxeL"
      }
    },
    {
      "cell_type": "code",
      "source": [],
      "metadata": {
        "id": "1Pv_5BekHY1Z"
      },
      "execution_count": null,
      "outputs": []
    }
  ],
  "metadata": {
    "language_info": {
      "name": "python"
    },
    "colab": {
      "provenance": [],
      "include_colab_link": true
    }
  },
  "nbformat": 4,
  "nbformat_minor": 0
}